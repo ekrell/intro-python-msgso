{
  "nbformat": 4,
  "nbformat_minor": 0,
  "metadata": {
    "colab": {
      "provenance": [],
      "authorship_tag": "ABX9TyOa3ic5LvrxZ9YX4X/3P+RP",
      "include_colab_link": true
    },
    "kernelspec": {
      "name": "python3",
      "display_name": "Python 3"
    },
    "language_info": {
      "name": "python"
    }
  },
  "cells": [
    {
      "cell_type": "markdown",
      "metadata": {
        "id": "view-in-github",
        "colab_type": "text"
      },
      "source": [
        "<a href=\"https://colab.research.google.com/github/ekrell/intro-python-msgso/blob/main/Intro_Python_Workshop_0.ipynb\" target=\"_parent\"><img src=\"https://colab.research.google.com/assets/colab-badge.svg\" alt=\"Open In Colab\"/></a>"
      ]
    },
    {
      "cell_type": "markdown",
      "source": [
        "# Intro to Python Workshop\n",
        "\n",
        "Brought to you by [iCORE](http://icore.tamucc.edu/) & [MSGSO](https://msgsoresearchforum.wixsite.com/msgsosymposium/about)"
      ],
      "metadata": {
        "id": "h-FYBjiJ343k"
      }
    },
    {
      "cell_type": "markdown",
      "source": [
        "## Part 1: Python Basics\n",
        "\n",
        "- Programming with Python version 3\n",
        "- Basics of the [Python Standard Library](https://docs.python.org/3/library/index.html)"
      ],
      "metadata": {
        "id": "rJ9cJ2tF4hwf"
      }
    },
    {
      "cell_type": "markdown",
      "source": [
        "**Code & Comments**"
      ],
      "metadata": {
        "id": "EnmTWN_5cL2y"
      }
    },
    {
      "cell_type": "code",
      "source": [
        "print(\"This is a line of code that will execute.\")\n",
        "\n",
        "# This is just a comment for human readers that Python skips\n",
        "# It is a good idea to comment frequently to document your code.\n",
        "\n",
        "print(10 / 3)   # You can place comments after a line, but not before"
      ],
      "metadata": {
        "colab": {
          "base_uri": "https://localhost:8080/"
        },
        "id": "2tLu4tSNcQps",
        "outputId": "cbc76dbb-2dc0-45fe-b060-b6eca96da43b"
      },
      "execution_count": null,
      "outputs": [
        {
          "output_type": "stream",
          "name": "stdout",
          "text": [
            "This is a line of code that will execute.\n",
            "3.3333333333333335\n"
          ]
        }
      ]
    },
    {
      "cell_type": "markdown",
      "source": [
        "**Variables**\n",
        "\n",
        "- Named variables store values.\n",
        "- These values have types such as integers, booleans, floats, and strings\n",
        "- We don't have to tell it what the type is. Python figures it out."
      ],
      "metadata": {
        "id": "93BHZAu9ZG-p"
      }
    },
    {
      "cell_type": "code",
      "source": [
        "# Integer\n",
        "variable_1 = 45\n",
        "print(variable_1)\n",
        "\n",
        "# Floating point (float)\n",
        "variable_2 = 10.34\n",
        "print(variable_2)\n",
        "\n",
        "# String\n",
        "variable_3 = \"Hello world\"\n",
        "print(variable_3)\n",
        "\n",
        "# Boolean (bool)\n",
        "variable_4 = True\n",
        "print(variable_4)"
      ],
      "metadata": {
        "colab": {
          "base_uri": "https://localhost:8080/"
        },
        "id": "fKEtHY79Ze3K",
        "outputId": "fee5e0df-38e8-4425-b164-9951e245139d"
      },
      "execution_count": null,
      "outputs": [
        {
          "output_type": "stream",
          "name": "stdout",
          "text": [
            "45\n",
            "10.34\n",
            "Hello world\n",
            "True\n"
          ]
        }
      ]
    },
    {
      "cell_type": "markdown",
      "source": [
        "**Formatting**\n",
        "\n",
        "- A newline ends a line of code.\n",
        "- Indentation is used to indicate code blocks (called scope)"
      ],
      "metadata": {
        "id": "QKgDtRalYIzO"
      }
    },
    {
      "cell_type": "code",
      "source": [
        "# Code snippet with indentation\n",
        "\n",
        "a = 11\n",
        "b = 10\n",
        "\n",
        "if a < 10:\n",
        "  print(\"Inside the scope\")\n",
        "\n",
        "print(\"Outside the scope\")"
      ],
      "metadata": {
        "colab": {
          "base_uri": "https://localhost:8080/"
        },
        "id": "9V5obXbQdJeU",
        "outputId": "57dd0407-5438-4e0b-f5d9-82443e0d3d88"
      },
      "execution_count": null,
      "outputs": [
        {
          "output_type": "stream",
          "name": "stdout",
          "text": [
            "Outside the scope\n"
          ]
        }
      ]
    },
    {
      "cell_type": "markdown",
      "source": [
        "**Changing our variables**"
      ],
      "metadata": {
        "id": "0FMGHGhweWQt"
      }
    },
    {
      "cell_type": "code",
      "source": [
        "# What did we assign earlier?\n",
        "print(variable_1)\n",
        "\n",
        "# We can update that variable\n",
        "variable_1 = variable_1 + 10\n",
        "print(variable_1)\n",
        "\n",
        "# We can completely change that variable to another type\n",
        "variable_1 = \"I am now a string\"\n",
        "print(variable_1)"
      ],
      "metadata": {
        "colab": {
          "base_uri": "https://localhost:8080/"
        },
        "id": "fnCVy3_wY_LG",
        "outputId": "c889bb15-0919-49f5-d0ae-061ee67b2cba"
      },
      "execution_count": null,
      "outputs": [
        {
          "output_type": "stream",
          "name": "stdout",
          "text": [
            "45\n",
            "55\n",
            "I am now a string\n"
          ]
        }
      ]
    },
    {
      "cell_type": "markdown",
      "source": [
        "**Numbers**\n",
        "\n",
        "- 'Int': ingeger values\n",
        "- 'Float': floating point numbers (one or more decimals)"
      ],
      "metadata": {
        "id": "TxtXwKk5rLL3"
      }
    },
    {
      "cell_type": "code",
      "source": [
        "x = 5\n",
        "y = 8.0\n",
        "\n",
        "print(type(x))\n",
        "print(type(y))"
      ],
      "metadata": {
        "colab": {
          "base_uri": "https://localhost:8080/"
        },
        "id": "OA-j_aLcfTwI",
        "outputId": "f84c5385-2f0a-4062-db96-5cd510dc5750"
      },
      "execution_count": null,
      "outputs": [
        {
          "output_type": "stream",
          "name": "stdout",
          "text": [
            "<class 'int'>\n",
            "<class 'float'>\n"
          ]
        }
      ]
    },
    {
      "cell_type": "code",
      "source": [
        "# Type conversions\n",
        "a = int(y)\n",
        "print(a)\n",
        "\n",
        "# We can skip assignment and print directly\n",
        "print(float(x))\n",
        "\n",
        "# You can also directly specify the type (called \"casting\")\n",
        "x = float(5)\n",
        "print(x)"
      ],
      "metadata": {
        "colab": {
          "base_uri": "https://localhost:8080/"
        },
        "id": "Ae4aNvJCsYLC",
        "outputId": "823e076c-453b-4810-ae8e-a23b10a9dd08"
      },
      "execution_count": null,
      "outputs": [
        {
          "output_type": "stream",
          "name": "stdout",
          "text": [
            "8\n",
            "5.0\n",
            "5.0\n"
          ]
        }
      ]
    },
    {
      "cell_type": "code",
      "source": [
        "# Converting strings to numbers\n",
        "str_a, str_b, str_c = \"48\", \"12.67\", \"seagull\"\n",
        "\n",
        "print(str_a, str_b, str_c)\n",
        "print()\n",
        "# print(int(str_a), int(str_b), int(str_c))        # 2 errors\n",
        "print()\n",
        "# print(float(str_a), float(str_b), float(str_c))  # 1 error"
      ],
      "metadata": {
        "colab": {
          "base_uri": "https://localhost:8080/"
        },
        "id": "ji8p1qNbvYgd",
        "outputId": "426820f0-54f3-41bf-ad7f-d4d62ac43cac"
      },
      "execution_count": null,
      "outputs": [
        {
          "output_type": "stream",
          "name": "stdout",
          "text": [
            "48 12.67 seagull\n",
            "\n",
            "\n"
          ]
        }
      ]
    },
    {
      "cell_type": "markdown",
      "source": [
        "**Strings**"
      ],
      "metadata": {
        "id": "OHUlg8BhwcSP"
      }
    },
    {
      "cell_type": "code",
      "source": [
        "# Strings are sequences of characters\n",
        "\n",
        "single_char = \"a\"\n",
        "\n",
        "multi_char = \"sea surface temperature\"\n",
        "\n",
        "number = \"23\"\n",
        "\n",
        "kirby = \"<('.')>\"\n",
        "\n",
        "empty = \"\"\n",
        "\n",
        "whitespace = \"   \"\n",
        "\n",
        "specials = \"crabs\\t10\\t4.5\\nshrimps\\t30\\t6.5\\nclams\\t4\\t0.5\"\n",
        "print(specials)"
      ],
      "metadata": {
        "colab": {
          "base_uri": "https://localhost:8080/"
        },
        "id": "avelHHaf_p8m",
        "outputId": "85a7d6db-39d5-4166-e3df-c31390d8b351"
      },
      "execution_count": null,
      "outputs": [
        {
          "output_type": "stream",
          "name": "stdout",
          "text": [
            "crabs\t10\t4.5\n",
            "shrimps\t30\t6.5\n",
            "clams\t4\t0.5\n"
          ]
        }
      ]
    },
    {
      "cell_type": "code",
      "source": [
        "# Escape characters\n",
        "print(\"\\\"Dubliners\\\" by James Joyce.\")\n",
        "\n",
        "print(\"You can make a tab with \\\\t\")\n",
        "\n",
        "# For quotes, you can also alternate single & double\n",
        "print('I am within \"single quotes\"')\n",
        "print(\"I am within 'double quotes'\")"
      ],
      "metadata": {
        "colab": {
          "base_uri": "https://localhost:8080/"
        },
        "id": "9M40xpDb_p3h",
        "outputId": "56001f34-5437-4808-fd73-936fe6a13289"
      },
      "execution_count": null,
      "outputs": [
        {
          "output_type": "stream",
          "name": "stdout",
          "text": [
            "\"Dubliners\" by James Joyce.\n",
            "You can make a tab with \\t\n",
            "I am within \"single quotes\"\n",
            "I am within 'double quotes'\n"
          ]
        }
      ]
    },
    {
      "cell_type": "markdown",
      "source": [
        "**String operations**"
      ],
      "metadata": {
        "id": "uZqVMKJnEjpC"
      }
    },
    {
      "cell_type": "code",
      "source": [
        "# Slicing\n",
        "\n",
        "string = \"The Pines of Rome\"\n",
        "print(string[4:9])\n",
        "\n",
        "# 0-based counting!\n",
        "print(string[0:9])  # Start with 0\n",
        "print(string[1:9])  # Start with 1\n",
        "\n",
        "# One-side slicing\n",
        "print(string[4:])   # Trim start\n",
        "print(string[:10])  # Trim end\n",
        "\n",
        "# Negative indexing\n",
        "print(string[-4:])"
      ],
      "metadata": {
        "colab": {
          "base_uri": "https://localhost:8080/"
        },
        "id": "-poed2iK_p0V",
        "outputId": "d2e31a8e-1a0b-4003-cde3-86865cca4cdb"
      },
      "execution_count": null,
      "outputs": [
        {
          "output_type": "stream",
          "name": "stdout",
          "text": [
            "Pines\n",
            "The Pines\n",
            "he Pines\n",
            "Pines of Rome\n",
            "The Pines \n",
            "Rome\n"
          ]
        }
      ]
    },
    {
      "cell_type": "code",
      "source": [
        "# Modifying\n",
        "\n",
        "string = \"    innovation in COmputer REsearch (iCORE)\"\n",
        "print(string)\n",
        "\n",
        "# upper case\n",
        "print(string.upper())\n",
        "\n",
        "# lower case\n",
        "print(string.lower())\n",
        "\n",
        "# Remove surrounding whitespace\n",
        "print(string.strip())"
      ],
      "metadata": {
        "colab": {
          "base_uri": "https://localhost:8080/"
        },
        "id": "IVZhDr9b_pwC",
        "outputId": "7a212c9f-6961-40c3-ec95-34ab084216e8"
      },
      "execution_count": null,
      "outputs": [
        {
          "output_type": "stream",
          "name": "stdout",
          "text": [
            "    innovation in COmputer REsearch (iCORE)\n",
            "    INNOVATION IN COMPUTER RESEARCH (ICORE)\n",
            "    innovation in computer research (icore)\n",
            "innovation in COmputer REsearch (iCORE)\n"
          ]
        }
      ]
    },
    {
      "cell_type": "markdown",
      "source": [
        "The above are examples of string methods, of which there are [many](https://www.w3schools.com/python/python_strings_methods.asp)."
      ],
      "metadata": {
        "id": "7IzK9RGAQSoQ"
      }
    },
    {
      "cell_type": "code",
      "source": [
        "# Replace string\n",
        "string = \"Hello, World!\"\n",
        "print(string.replace(\"Hello\", \"Hola\"))\n",
        "\n",
        "# What if we have multiple?\n",
        "string = \"10 dollars, 20 dollars, 30 dollars\"\n",
        "print(string.replace(\"dollars\", \"pesos\"))"
      ],
      "metadata": {
        "colab": {
          "base_uri": "https://localhost:8080/"
        },
        "id": "pNzTLAFNKkcH",
        "outputId": "611469f2-f4f3-47dc-a163-4b72ae2ad271"
      },
      "execution_count": null,
      "outputs": [
        {
          "output_type": "stream",
          "name": "stdout",
          "text": [
            "Hola, World!\n",
            "10 pesos, 20 pesos, 30 pesos\n"
          ]
        }
      ]
    },
    {
      "cell_type": "code",
      "source": [
        "# Split: turns a string into a list of substrings\n",
        "string = \"dogs,cats,rabbits\"\n",
        "print(string.split(\",\"))\n",
        "\n",
        "# we will learn more about lists later"
      ],
      "metadata": {
        "colab": {
          "base_uri": "https://localhost:8080/"
        },
        "id": "Tjh_ojHCLtga",
        "outputId": "8b131408-62c5-43d5-e0bb-d297b4327f45"
      },
      "execution_count": null,
      "outputs": [
        {
          "output_type": "stream",
          "name": "stdout",
          "text": [
            "['dogs', 'cats', 'rabbits']\n"
          ]
        }
      ]
    },
    {
      "cell_type": "code",
      "source": [
        "# Concatenating\n",
        "\n",
        "name = \"iCORE\"\n",
        "url = \"http://icore.tamucc.edu/\"\n",
        "\n",
        "string = name + \"\\t\" + \"(\" + url + \")\"\n",
        "print(string)"
      ],
      "metadata": {
        "colab": {
          "base_uri": "https://localhost:8080/"
        },
        "id": "NYLylKwz_ptg",
        "outputId": "a5fc962d-c962-48be-aa87-312058b16f89"
      },
      "execution_count": null,
      "outputs": [
        {
          "output_type": "stream",
          "name": "stdout",
          "text": [
            "iCORE\t(http://icore.tamucc.edu/)\n"
          ]
        }
      ]
    },
    {
      "cell_type": "code",
      "source": [
        "# Formatting\n",
        "name = \"White's tree frog\"\n",
        "sciname = \"Litoria caerulea\"\n",
        "score = 10\n",
        "print(f\"{name} ({sciname}) is a {10}/10 frog.\")\n",
        "\n",
        "# Can include a formatting modifier\n",
        "result = 10 / 3\n",
        "print(f\"Result = {result}\")\n",
        "print(f\"Result = {result:.4f}\")"
      ],
      "metadata": {
        "colab": {
          "base_uri": "https://localhost:8080/"
        },
        "id": "GtrKgg_IEve3",
        "outputId": "b478561f-7ad7-4b99-e604-65e6189084bd"
      },
      "execution_count": null,
      "outputs": [
        {
          "output_type": "stream",
          "name": "stdout",
          "text": [
            "White's tree frog (Litoria caerulea) is a 10/10 frog.\n",
            "Result = 3.3333333333333335\n",
            "Result = 3.3333\n"
          ]
        }
      ]
    },
    {
      "cell_type": "markdown",
      "source": [
        "**Booleans**\n",
        "\n",
        "- Booleans have two types: true or false\n",
        "- Storing (yes/no) values is fundamental to how computers work\n",
        "- We will use them extensively in Python for program flow control"
      ],
      "metadata": {
        "id": "sCad8vIzQeZK"
      }
    },
    {
      "cell_type": "code",
      "source": [
        "# True\n",
        "is_valid = True\n",
        "\n",
        "# False\n",
        "is_valid = False\n",
        "\n",
        "# As a result\n",
        "result = 1000 > 4\n",
        "print(result)"
      ],
      "metadata": {
        "colab": {
          "base_uri": "https://localhost:8080/"
        },
        "id": "e_nvqCtmQdy2",
        "outputId": "54b540e0-a71b-4acd-ee12-e2d9c602387a"
      },
      "execution_count": null,
      "outputs": [
        {
          "output_type": "stream",
          "name": "stdout",
          "text": [
            "True\n"
          ]
        }
      ]
    },
    {
      "cell_type": "code",
      "source": [
        "# Boolean operator: 'and'\n",
        "print(True and True)\n",
        "print(True and False)\n",
        "print(False and True)\n",
        "print(False and False)"
      ],
      "metadata": {
        "colab": {
          "base_uri": "https://localhost:8080/"
        },
        "id": "MBaE1GjdhIcI",
        "outputId": "c3152073-2d97-46b3-bc87-0622bd948f9d"
      },
      "execution_count": null,
      "outputs": [
        {
          "output_type": "stream",
          "name": "stdout",
          "text": [
            "True\n",
            "False\n",
            "False\n",
            "False\n"
          ]
        }
      ]
    },
    {
      "cell_type": "code",
      "source": [
        "# Boolean operator: 'or'\n",
        "print(True or True)\n",
        "print(True or False)\n",
        "print(False or True)\n",
        "print(False or False)"
      ],
      "metadata": {
        "colab": {
          "base_uri": "https://localhost:8080/"
        },
        "id": "-Vj_MLsshQyd",
        "outputId": "14d58cd9-25c8-42b9-9a86-e1fdaf205145"
      },
      "execution_count": null,
      "outputs": [
        {
          "output_type": "stream",
          "name": "stdout",
          "text": [
            "True\n",
            "True\n",
            "True\n",
            "False\n"
          ]
        }
      ]
    },
    {
      "cell_type": "code",
      "source": [
        "# Boolean operator 'not'\n",
        "print(not True)\n",
        "print(not False)"
      ],
      "metadata": {
        "colab": {
          "base_uri": "https://localhost:8080/"
        },
        "id": "dsXatU-2hXLI",
        "outputId": "a5dd6824-0d8d-4cf4-adfd-4240cc6bb1c7"
      },
      "execution_count": null,
      "outputs": [
        {
          "output_type": "stream",
          "name": "stdout",
          "text": [
            "False\n",
            "True\n"
          ]
        }
      ]
    },
    {
      "cell_type": "markdown",
      "source": [
        "**Operators**"
      ],
      "metadata": {
        "id": "1Ck_iDvijCCx"
      }
    },
    {
      "cell_type": "code",
      "source": [
        "# Basic arithmetic\n",
        "print(100 + 10)\n",
        "print(100 - 10)\n",
        "print(100 * 10)\n",
        "print(100 / 10)\n",
        "print(100 + 10 + 1)\n",
        "\n",
        "print()\n",
        "\n",
        "# Modulus\n",
        "print(4 % 2, 8 % 2)\n",
        "print(5 % 2, 9 % 2)\n",
        "\n",
        "print()\n",
        "\n",
        "# Exponentiation\n",
        "print(10**2)\n",
        "print(10**10)\n",
        "\n",
        "print()\n",
        "\n",
        "# Floor division (a.k.a. integer division)\n",
        "print(4 / 2, 9 / 2)     # Normal\n",
        "print(4 // 2, 9 // 2)   # Floor  (changes the type to int!)"
      ],
      "metadata": {
        "colab": {
          "base_uri": "https://localhost:8080/"
        },
        "id": "FnDSfahtjEAt",
        "outputId": "81fc4323-cc7e-427a-b575-516f91c2d895"
      },
      "execution_count": null,
      "outputs": [
        {
          "output_type": "stream",
          "name": "stdout",
          "text": [
            "110\n",
            "90\n",
            "1000\n",
            "10.0\n",
            "111\n",
            "\n",
            "0 0\n",
            "1 1\n",
            "\n",
            "100\n",
            "10000000000\n",
            "\n",
            "2.0 4.5\n",
            "2 4\n"
          ]
        }
      ]
    },
    {
      "cell_type": "code",
      "source": [
        "# Comparison\n",
        "x = 20\n",
        "y = 40\n",
        "\n",
        "print(x == y)\n",
        "print(x != y)\n",
        "print(x <  y)\n",
        "print(x >  y)\n",
        "print(x >= y)\n",
        "print(x <= y)\n",
        "\n",
        "# They turn into booleans!"
      ],
      "metadata": {
        "colab": {
          "base_uri": "https://localhost:8080/"
        },
        "id": "6MZLT4-ukWpB",
        "outputId": "60d028be-3d85-48a6-fc19-e4f911e164e3"
      },
      "execution_count": null,
      "outputs": [
        {
          "output_type": "stream",
          "name": "stdout",
          "text": [
            "False\n",
            "True\n",
            "True\n",
            "False\n",
            "False\n",
            "True\n"
          ]
        }
      ]
    },
    {
      "cell_type": "code",
      "source": [
        "# And so we can apply our Boolean operators\n",
        "# (also called logical operators)\n",
        "\n",
        "print(x)\n",
        "print(x < 30 and x < 10)\n",
        "print(x < 30 or x < 10)\n",
        "print(not(x < 30))"
      ],
      "metadata": {
        "colab": {
          "base_uri": "https://localhost:8080/"
        },
        "id": "Sp4RCgQxkwWj",
        "outputId": "8c41a733-39b2-4a10-eedf-d108aff4906c"
      },
      "execution_count": null,
      "outputs": [
        {
          "output_type": "stream",
          "name": "stdout",
          "text": [
            "20\n",
            "False\n",
            "True\n",
            "False\n"
          ]
        }
      ]
    },
    {
      "cell_type": "code",
      "source": [
        "# Order of operations\n",
        "result_1 = (10 + 10) / 5\n",
        "result_2 = (10 + 10 / 5)\n",
        "\n",
        "print(result_1, result_2)"
      ],
      "metadata": {
        "colab": {
          "base_uri": "https://localhost:8080/"
        },
        "id": "Pv6RCWTRlYyW",
        "outputId": "4cc22f3e-0a40-438d-8f51-2136593f928c"
      },
      "execution_count": null,
      "outputs": [
        {
          "output_type": "stream",
          "name": "stdout",
          "text": [
            "4.0 12.0\n"
          ]
        }
      ]
    },
    {
      "cell_type": "markdown",
      "source": [
        "**Lists**\n",
        "\n",
        "- Ordered\n",
        "- Changeable\n",
        "- Allows duplicates\n",
        "\n",
        "Lists are ordered sequences, NOT sets!"
      ],
      "metadata": {
        "id": "8ioTIUpWwg-8"
      }
    },
    {
      "cell_type": "code",
      "source": [
        "# Make a list\n",
        "tea_types = [\"green\", \"oolong\", \"black\", \"puerh\"]\n",
        "print(tea_types)"
      ],
      "metadata": {
        "colab": {
          "base_uri": "https://localhost:8080/"
        },
        "id": "NhkCVLY8l4dM",
        "outputId": "eb6a16b7-6f0f-4710-d0f3-281ec8eaf7d2"
      },
      "execution_count": null,
      "outputs": [
        {
          "output_type": "stream",
          "name": "stdout",
          "text": [
            "['green', 'oolong', 'black', 'puerh']\n"
          ]
        }
      ]
    },
    {
      "cell_type": "code",
      "source": [
        "# Print a value\n",
        "print(tea_types[2])\n",
        "\n",
        "print(tea_types[-1])"
      ],
      "metadata": {
        "colab": {
          "base_uri": "https://localhost:8080/"
        },
        "id": "SNwQFVUrl4a1",
        "outputId": "e0a29104-5902-4f42-a996-2d49d853c1ae"
      },
      "execution_count": null,
      "outputs": [
        {
          "output_type": "stream",
          "name": "stdout",
          "text": [
            "black\n",
            "puerh\n"
          ]
        }
      ]
    },
    {
      "cell_type": "code",
      "source": [
        "# Modify a list\n",
        "tea_types[0] = \"purple\"   # Purple tea is a real thing, a mutation of the leaves\n",
        "print(tea_types)"
      ],
      "metadata": {
        "colab": {
          "base_uri": "https://localhost:8080/"
        },
        "id": "4LJRadI8l4YZ",
        "outputId": "717306be-395b-4fd8-f08a-97048836071e"
      },
      "execution_count": null,
      "outputs": [
        {
          "output_type": "stream",
          "name": "stdout",
          "text": [
            "['purple', 'oolong', 'black', 'puerh']\n"
          ]
        }
      ]
    },
    {
      "cell_type": "code",
      "source": [
        "# Check list length\n",
        "print(len(tea_types))"
      ],
      "metadata": {
        "colab": {
          "base_uri": "https://localhost:8080/"
        },
        "id": "-6pyQxEBl4WH",
        "outputId": "08ff0f41-d473-4064-ab70-bbe19dfc69b9"
      },
      "execution_count": null,
      "outputs": [
        {
          "output_type": "stream",
          "name": "stdout",
          "text": [
            "4\n"
          ]
        }
      ]
    },
    {
      "cell_type": "code",
      "source": [
        "# Data types\n",
        "ints = [10, 20, 30, 40]\n",
        "mixed = [\"hello\", 50, True, 8.2]\n",
        "print(mixed)\n",
        "\n",
        "print(type(mixed))"
      ],
      "metadata": {
        "colab": {
          "base_uri": "https://localhost:8080/"
        },
        "id": "ERps7qQsst0S",
        "outputId": "84e4a5d0-932b-41a6-d0b5-d57c4662bf29"
      },
      "execution_count": null,
      "outputs": [
        {
          "output_type": "stream",
          "name": "stdout",
          "text": [
            "['hello', 50, True, 8.2]\n",
            "<class 'list'>\n"
          ]
        }
      ]
    },
    {
      "cell_type": "code",
      "source": [
        "# Index ranges\n",
        "thislist = [\"apple\", \"banana\", \"cherry\", \"orange\", \"kiwi\", \"melon\", \"mango\"]\n",
        "print(thislist[2:5])\n",
        "print(thislist[:4])\n",
        "print(thislist[2:])"
      ],
      "metadata": {
        "colab": {
          "base_uri": "https://localhost:8080/"
        },
        "id": "fqaMnIfystx-",
        "outputId": "61b571e0-edb7-48b8-a224-9557b47ce9a9"
      },
      "execution_count": null,
      "outputs": [
        {
          "output_type": "stream",
          "name": "stdout",
          "text": [
            "['cherry', 'orange', 'kiwi']\n",
            "['apple', 'banana', 'cherry', 'orange']\n",
            "['cherry', 'orange', 'kiwi', 'melon', 'mango']\n"
          ]
        }
      ]
    },
    {
      "cell_type": "code",
      "source": [
        "# Membership operators\n",
        "\n",
        "check_1 = \"apple\" in thislist\n",
        "check_2 = \"snowcone\" in thislist\n",
        "\n",
        "print(check_1, check_2)"
      ],
      "metadata": {
        "colab": {
          "base_uri": "https://localhost:8080/"
        },
        "id": "OB1WERS6lzeA",
        "outputId": "ad6fd5ca-e784-4b00-8b30-5e5042b6b288"
      },
      "execution_count": null,
      "outputs": [
        {
          "output_type": "stream",
          "name": "stdout",
          "text": [
            "True False\n"
          ]
        }
      ]
    },
    {
      "cell_type": "code",
      "source": [
        "# Increasing length of list\n",
        "\n",
        "tea_types = [\"green\",\n",
        "             \"oolong\",\n",
        "             \"black\",\n",
        "             \"puerh\"]\n",
        "\n",
        "# Append (to the end)\n",
        "tea_types.append(\"yellow\")\n",
        "print(tea_types)\n",
        "\n",
        "# Insert (to a location)\n",
        "tea_types.insert(1, \"red\")\n",
        "print(tea_types)\n",
        "\n",
        "# Extend\n",
        "dimsum1 = [\"siu mai\", \"char siu bao\", \"ma lai go\"]\n",
        "dimsum2 = [\"lo bak go\", \"har gow\", \"feng zhua\"]\n",
        "dimsum1.extend(dimsum2)\n",
        "print(dimsum1)"
      ],
      "metadata": {
        "colab": {
          "base_uri": "https://localhost:8080/"
        },
        "id": "KiTBTNv7stvb",
        "outputId": "0d204026-d401-4a5f-f3de-ea03deb5567c"
      },
      "execution_count": null,
      "outputs": [
        {
          "output_type": "stream",
          "name": "stdout",
          "text": [
            "['green', 'oolong', 'black', 'puerh', 'yellow']\n",
            "['green', 'red', 'oolong', 'black', 'puerh', 'yellow']\n",
            "['siu mai', 'char siu bao', 'ma lai go', 'lo bak go', 'har gow', 'feng zhua']\n"
          ]
        }
      ]
    },
    {
      "cell_type": "code",
      "source": [
        "# Sort lists\n",
        "\n",
        "# Alpha sort\n",
        "dimsum1.sort()\n",
        "print(dimsum1)\n",
        "\n",
        "# Reverse it\n",
        "dimsum1.sort(reverse=True)\n",
        "\n",
        "# Sort numbers\n",
        "nums = [2, 7, 3, 7, 2, 3, 9, 3, 76, 3]\n",
        "print(nums)\n",
        "nums.sort()\n",
        "print(nums)\n",
        "nums.sort(reverse=True)\n",
        "print(nums)\n",
        "\n",
        "# Reverse (not based on alpha or numeric --> just reverses)\n",
        "nums = [2, 7, 3, 7, 2, 3, 9, 3, 76, 3]\n",
        "nums.reverse()\n",
        "print(nums)"
      ],
      "metadata": {
        "colab": {
          "base_uri": "https://localhost:8080/"
        },
        "id": "htBv-ab-wM9Q",
        "outputId": "ac44a5a8-6552-4849-ae6a-e9b6de5af616"
      },
      "execution_count": null,
      "outputs": [
        {
          "output_type": "stream",
          "name": "stdout",
          "text": [
            "['char siu bao', 'feng zhua', 'har gow', 'lo bak go', 'ma lai go', 'siu mai']\n",
            "[2, 7, 3, 7, 2, 3, 9, 3, 76, 3]\n",
            "[2, 2, 3, 3, 3, 3, 7, 7, 9, 76]\n",
            "[76, 9, 7, 7, 3, 3, 3, 3, 2, 2]\n",
            "[3, 76, 3, 9, 3, 2, 7, 3, 7, 2]\n"
          ]
        }
      ]
    },
    {
      "cell_type": "code",
      "source": [
        "# Copy lists\n",
        "\n",
        "dimsum_copy = dimsum1.copy()"
      ],
      "metadata": {
        "id": "bszOqb0ezsmN"
      },
      "execution_count": null,
      "outputs": []
    },
    {
      "cell_type": "code",
      "source": [
        "# Remove items\n",
        "\n",
        "# By value\n",
        "dimsum1.remove(\"lo bak go\")\n",
        "print(dimsum1)\n",
        "\n",
        "# By index\n",
        "dimsum1.pop(0)\n",
        "print(dimsum1)\n",
        "\n",
        "# Clear all\n",
        "dimsum1.clear()\n",
        "print(dimsum1)\n",
        "\n",
        "# What about our copy?\n",
        "print(dimsum_copy)"
      ],
      "metadata": {
        "colab": {
          "base_uri": "https://localhost:8080/"
        },
        "id": "LrLZUPyisttI",
        "outputId": "d3ad0365-7940-4175-8c6c-92a4f6f99c30"
      },
      "execution_count": null,
      "outputs": [
        {
          "output_type": "stream",
          "name": "stdout",
          "text": [
            "['siu mai', 'ma lai go', 'har gow', 'feng zhua', 'char siu bao']\n",
            "['ma lai go', 'har gow', 'feng zhua', 'char siu bao']\n",
            "[]\n",
            "['siu mai', 'ma lai go', 'lo bak go', 'har gow', 'feng zhua', 'char siu bao']\n"
          ]
        }
      ]
    },
    {
      "cell_type": "markdown",
      "source": [
        "**Tuples**\n",
        "\n",
        "- Like lists, but **immutable**  --> faster\n",
        "- Lists use brackets: `[ item, item ]`\n",
        "- Tuples use parantheses: `( item, item )`"
      ],
      "metadata": {
        "id": "4NPWMmooJftv"
      }
    },
    {
      "cell_type": "code",
      "source": [
        "list_1 = [12, 19]\n",
        "print(\"list:\", list_1)\n",
        "\n",
        "tuple_1 = (12, 19)\n",
        "print(\"tuple:\", tuple_1)\n",
        "\n",
        "list_1[0] = 55\n",
        "#tuple_1[0] = 55"
      ],
      "metadata": {
        "colab": {
          "base_uri": "https://localhost:8080/"
        },
        "id": "Bf4citlkJmY2",
        "outputId": "9774588c-beb0-4267-a2f1-48ec73c4d90c"
      },
      "execution_count": null,
      "outputs": [
        {
          "output_type": "stream",
          "name": "stdout",
          "text": [
            "list: [12, 19]\n",
            "tuple: (12, 19)\n"
          ]
        }
      ]
    },
    {
      "cell_type": "markdown",
      "source": [
        "**For Loops**"
      ],
      "metadata": {
        "id": "QwuL_vxKfURX"
      }
    },
    {
      "cell_type": "code",
      "source": [
        "# Loop over a sequence\n",
        "for index in range(10):\n",
        "  print(index)"
      ],
      "metadata": {
        "colab": {
          "base_uri": "https://localhost:8080/"
        },
        "id": "kKQY7IwHfXB9",
        "outputId": "42c2ebc8-866d-4fd5-f6d5-c43893ffc5e9"
      },
      "execution_count": null,
      "outputs": [
        {
          "output_type": "stream",
          "name": "stdout",
          "text": [
            "0\n",
            "1\n",
            "2\n",
            "3\n",
            "4\n",
            "5\n",
            "6\n",
            "7\n",
            "8\n",
            "9\n"
          ]
        }
      ]
    },
    {
      "cell_type": "code",
      "source": [
        "# Nested loop\n",
        "for i in range(3):\n",
        "  print(f\"{i}:\", end=\"\")\n",
        "  for j in range(4):\n",
        "    print(f\" {j}\", end=\"\")\n",
        "  print()"
      ],
      "metadata": {
        "colab": {
          "base_uri": "https://localhost:8080/"
        },
        "id": "0G-6lJhHff8r",
        "outputId": "1ad634e3-386d-4c81-c53e-4548d07ef8ba"
      },
      "execution_count": null,
      "outputs": [
        {
          "output_type": "stream",
          "name": "stdout",
          "text": [
            "0: 0 1 2 3\n",
            "1: 0 1 2 3\n",
            "2: 0 1 2 3\n"
          ]
        }
      ]
    },
    {
      "cell_type": "code",
      "source": [
        "# Loop over elements of a list\n",
        "fishes = [\"redfish\", \"flounder\", \"lizardfish\", \"oyster toadfish\"]\n",
        "for fish in fishes:\n",
        "  print(fish)"
      ],
      "metadata": {
        "colab": {
          "base_uri": "https://localhost:8080/"
        },
        "id": "LldoSQLgfeMt",
        "outputId": "bc8358c8-fb26-4919-e574-814b95f4548a"
      },
      "execution_count": null,
      "outputs": [
        {
          "output_type": "stream",
          "name": "stdout",
          "text": [
            "redfish\n",
            "flounder\n",
            "lizardfish\n",
            "oyster toadfish\n"
          ]
        }
      ]
    },
    {
      "cell_type": "code",
      "source": [
        "# Loop over elements with an index\n",
        "for i in range(len(fishes)):\n",
        "  print(f\"{i}:  {fishes[i]}\")"
      ],
      "metadata": {
        "colab": {
          "base_uri": "https://localhost:8080/"
        },
        "id": "kPr25_exidIf",
        "outputId": "76c70b7b-5b1a-482c-afc3-85460fa7843d"
      },
      "execution_count": null,
      "outputs": [
        {
          "output_type": "stream",
          "name": "stdout",
          "text": [
            "0:  redfish\n",
            "1:  flounder\n",
            "2:  lizardfish\n",
            "3:  oyster toadfish\n"
          ]
        }
      ]
    },
    {
      "cell_type": "code",
      "source": [
        "# A convenient alternative that uses 'enumerate'\n",
        "for i, fish in enumerate(fishes):\n",
        "  print(f\"{i}:  {fish}\")"
      ],
      "metadata": {
        "colab": {
          "base_uri": "https://localhost:8080/"
        },
        "id": "sbY-NEs3iyJ9",
        "outputId": "e03b2948-eef0-4521-8d75-b6cd6ba55c6c"
      },
      "execution_count": null,
      "outputs": [
        {
          "output_type": "stream",
          "name": "stdout",
          "text": [
            "0:  redfish\n",
            "1:  flounder\n",
            "2:  lizardfish\n",
            "3:  oyster toadfish\n"
          ]
        }
      ]
    },
    {
      "cell_type": "code",
      "source": [
        "# Loop with conditions\n",
        "for i, fish in enumerate(fishes):\n",
        "  if i % 2 == 0:\n",
        "    print(fish)\n",
        "\n",
        "print()\n",
        "\n",
        "for i, fish in enumerate(fishes):\n",
        "  if i % 2 != 0:\n",
        "    print(fish)"
      ],
      "metadata": {
        "colab": {
          "base_uri": "https://localhost:8080/"
        },
        "id": "V8vUtdZji_pK",
        "outputId": "60070878-de27-4834-df70-9ef79cef5b28"
      },
      "execution_count": null,
      "outputs": [
        {
          "output_type": "stream",
          "name": "stdout",
          "text": [
            "redfish\n",
            "lizardfish\n",
            "\n",
            "flounder\n",
            "oyster toadfish\n"
          ]
        }
      ]
    },
    {
      "cell_type": "markdown",
      "source": [
        "**While loops**"
      ],
      "metadata": {
        "id": "hMXCVupLwHpr"
      }
    },
    {
      "cell_type": "code",
      "source": [
        "# Super simple while loop\n",
        "counter = 0\n",
        "while counter < 10:\n",
        "  print(counter)\n",
        "  counter = counter + 1"
      ],
      "metadata": {
        "colab": {
          "base_uri": "https://localhost:8080/"
        },
        "id": "TnYd7pZ-gXta",
        "outputId": "bd0410b8-880d-4ada-fd30-8c5e7a36dca1"
      },
      "execution_count": null,
      "outputs": [
        {
          "output_type": "stream",
          "name": "stdout",
          "text": [
            "0\n",
            "1\n",
            "2\n",
            "3\n",
            "4\n",
            "5\n",
            "6\n",
            "7\n",
            "8\n",
            "9\n"
          ]
        }
      ]
    },
    {
      "cell_type": "code",
      "source": [
        "import random\n",
        "\n",
        "i = 0\n",
        "while i != 5:\n",
        "  i = random.randint(0, 10)\n",
        "  print(i)"
      ],
      "metadata": {
        "colab": {
          "base_uri": "https://localhost:8080/"
        },
        "id": "B7pd2unL4oOh",
        "outputId": "fd51c169-0443-4712-9cbf-f265a69947de"
      },
      "execution_count": null,
      "outputs": [
        {
          "output_type": "stream",
          "name": "stdout",
          "text": [
            "0\n",
            "10\n",
            "10\n",
            "9\n",
            "4\n",
            "0\n",
            "5\n"
          ]
        }
      ]
    },
    {
      "cell_type": "markdown",
      "source": [
        "**Conditions**"
      ],
      "metadata": {
        "id": "1WQZKmCk7Flj"
      }
    },
    {
      "cell_type": "code",
      "source": [
        "# Basic If\n",
        "a = 33\n",
        "b = 200\n",
        "if b > a:\n",
        "  print(\"b is greater than a\")"
      ],
      "metadata": {
        "colab": {
          "base_uri": "https://localhost:8080/"
        },
        "id": "1i5BkPJQ7ICo",
        "outputId": "e93e2cd7-b47e-4060-e68c-895398961757"
      },
      "execution_count": null,
      "outputs": [
        {
          "output_type": "stream",
          "name": "stdout",
          "text": [
            "b is greater than a\n"
          ]
        }
      ]
    },
    {
      "cell_type": "code",
      "source": [
        "# If...Elif\n",
        "a = 33\n",
        "b = 33\n",
        "if b > a:\n",
        "  print(\"b is greater than a\")\n",
        "elif a == b:\n",
        "  print(\"a and b are equal\")"
      ],
      "metadata": {
        "colab": {
          "base_uri": "https://localhost:8080/"
        },
        "id": "VQugxFxB7TOq",
        "outputId": "e19c44b6-7419-4ca9-d0a7-1f4ce3cce984"
      },
      "execution_count": null,
      "outputs": [
        {
          "output_type": "stream",
          "name": "stdout",
          "text": [
            "a and b are equal\n"
          ]
        }
      ]
    },
    {
      "cell_type": "code",
      "source": [
        "a = 200\n",
        "b = 33\n",
        "if b > a:\n",
        "  print(\"b is greater than a\")\n",
        "elif a == b:\n",
        "  print(\"a and b are equal\")\n",
        "else:\n",
        "  print(\"a is greater than b\")"
      ],
      "metadata": {
        "colab": {
          "base_uri": "https://localhost:8080/"
        },
        "id": "x09Pv0dc7dWX",
        "outputId": "fdb5669c-62b6-42ed-e908-e15eb1f81343"
      },
      "execution_count": null,
      "outputs": [
        {
          "output_type": "stream",
          "name": "stdout",
          "text": [
            "a is greater than b\n"
          ]
        }
      ]
    },
    {
      "cell_type": "code",
      "source": [
        "# Combos: And, Or, Not\n",
        "\n",
        "# And\n",
        "a = 77\n",
        "b = 7\n",
        "if (a > b) and b != 0:\n",
        "  c = a / b\n",
        "  print(c)\n",
        "\n",
        "print(\"\\n\")\n",
        "\n",
        "# Or\n",
        "animals = [\"cat\", \"crocodile\", \"bunny\", \"scorpion\"]\n",
        "\n",
        "for animal in animals:\n",
        "  if animal == \"cat\" or animal == \"bunny\":\n",
        "    print(f\"Pet the {animal}!\")\n",
        "  else:\n",
        "    print(f\"Do not pet the {animal}!\")\n",
        "\n",
        "print(\"\\n\")\n",
        "\n",
        "# Not\n",
        "for animal in animals:\n",
        "  if not (animal == \"cat\" or animal == \"bunny\"):\n",
        "    print(f\"Pet the {animal}!\")\n",
        "  else:\n",
        "    print(f\"Do not pet the {animal}!\")"
      ],
      "metadata": {
        "colab": {
          "base_uri": "https://localhost:8080/"
        },
        "id": "812atAJ87ibl",
        "outputId": "795848aa-bf6e-4f40-acfe-c088b7a87abe"
      },
      "execution_count": null,
      "outputs": [
        {
          "output_type": "stream",
          "name": "stdout",
          "text": [
            "11.0\n",
            "\n",
            "\n",
            "Pet the cat!\n",
            "Do not pet the crocodile!\n",
            "Pet the bunny!\n",
            "Do not pet the scorpion!\n",
            "\n",
            "\n",
            "Do not pet the cat!\n",
            "Pet the crocodile!\n",
            "Do not pet the bunny!\n",
            "Pet the scorpion!\n"
          ]
        }
      ]
    },
    {
      "cell_type": "code",
      "source": [
        "# Nested conditions\n",
        "\n",
        "games = [\n",
        "    [\"Animal Crossing\", 60.0, \"*****\"],\n",
        "    [\"Stardew Valley\", 9.99, \"*****\"],\n",
        "    [\"Pocky and Rocky\", 19.99, \"*****\"],\n",
        "    [\"Kamiko\", 4.99, \"**\"]\n",
        "]\n",
        "\n",
        "# Let's find a game < $30 and with five stars\n",
        "\n",
        "for game in games:\n",
        "  if game[1] <= 30.0:\n",
        "    num_stars = len(game[2])\n",
        "    if num_stars >= 5:\n",
        "      print(game)"
      ],
      "metadata": {
        "colab": {
          "base_uri": "https://localhost:8080/"
        },
        "id": "GviHaBQC8PN5",
        "outputId": "64463fd9-2f29-4304-c474-a632578e6ce3"
      },
      "execution_count": null,
      "outputs": [
        {
          "output_type": "stream",
          "name": "stdout",
          "text": [
            "['Stardew Valley', 9.99, '*****']\n",
            "['Pocky and Rocky', 19.99, '*****']\n"
          ]
        }
      ]
    },
    {
      "cell_type": "markdown",
      "source": [
        "**Functions**"
      ],
      "metadata": {
        "id": "5gHCnN-8AfX_"
      }
    },
    {
      "cell_type": "code",
      "source": [
        "def calc_mean(numbers):\n",
        "  # numbers: a List of numbers\n",
        "\n",
        "  total = 0\n",
        "  for number in numbers:\n",
        "    total = total + number\n",
        "\n",
        "  mean = total / len(numbers)\n",
        "  return mean"
      ],
      "metadata": {
        "id": "qHJSUKOxAeq9"
      },
      "execution_count": null,
      "outputs": []
    },
    {
      "cell_type": "code",
      "source": [
        "ages = [10, 11, 10, 14, 8, 5, 6, 9]\n",
        "\n",
        "mean_age = calc_mean(ages)\n",
        "print(mean_age)"
      ],
      "metadata": {
        "colab": {
          "base_uri": "https://localhost:8080/"
        },
        "id": "6_OC1EUrA5TL",
        "outputId": "dd0ca165-8953-44a1-c8f6-ab017ca94e79"
      },
      "execution_count": null,
      "outputs": [
        {
          "output_type": "stream",
          "name": "stdout",
          "text": [
            "9.125\n"
          ]
        }
      ]
    },
    {
      "cell_type": "code",
      "source": [
        "def calc_mean_2(numbers, skip_flag=\"?\"):\n",
        "  # numbers: a List of numbers\n",
        "\n",
        "  total = 0\n",
        "  skips = 0\n",
        "  for number in numbers:\n",
        "    if number != skip_flag:\n",
        "      total = total + number\n",
        "    else:\n",
        "      skips = skips + 1\n",
        "\n",
        "  mean = total / (len(numbers) - skips)\n",
        "  return mean"
      ],
      "metadata": {
        "id": "M40IF6XyBIyc"
      },
      "execution_count": null,
      "outputs": []
    },
    {
      "cell_type": "code",
      "source": [
        "ages = [10, 11, 10, \"?\", 14, 8, \"?\", 5, 6, 9]\n",
        "\n",
        "# This won't work\n",
        "# mean_age = calc_mean(ages)\n",
        "# print(mean_age)\n",
        "\n",
        "# This will\n",
        "mean_age = calc_mean_2(ages)\n",
        "print(mean_age)"
      ],
      "metadata": {
        "colab": {
          "base_uri": "https://localhost:8080/"
        },
        "id": "Ck1yqLmqBSxw",
        "outputId": "1724173d-6d57-4dff-bb20-75303b84442f"
      },
      "execution_count": null,
      "outputs": [
        {
          "output_type": "stream",
          "name": "stdout",
          "text": [
            "9.125\n"
          ]
        }
      ]
    },
    {
      "cell_type": "markdown",
      "source": [
        "- What about files? Python has built-in file handling, of course.\n",
        "- These open generic data and treat them as a block of generic text.\n",
        "- For data science, we usually have well-defined formats (e.g. .csv, images, shapefiles, NetCDF, Numpy) and associated libraries for handling them.\n"
      ],
      "metadata": {
        "id": "sql16rxpWUu1"
      }
    },
    {
      "cell_type": "code",
      "source": [],
      "metadata": {
        "id": "AQFv949SW7YD"
      },
      "execution_count": null,
      "outputs": []
    }
  ]
}